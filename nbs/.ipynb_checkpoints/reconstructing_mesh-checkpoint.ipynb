{
 "cells": [
  {
   "cell_type": "code",
   "execution_count": 3,
   "id": "1c17b0e8-924e-4cbb-833d-8c380b6874bf",
   "metadata": {},
   "outputs": [
    {
     "name": "stdout",
     "output_type": "stream",
     "text": [
      "The autoreload extension is already loaded. To reload it, use:\n",
      "  %reload_ext autoreload\n"
     ]
    }
   ],
   "source": [
    "%load_ext autoreload\n",
    "%autoreload 2"
   ]
  },
  {
   "cell_type": "code",
   "execution_count": null,
   "id": "89599012-5947-4f50-9ed6-acf8a6028046",
   "metadata": {},
   "outputs": [],
   "source": [
    "import os\n",
    "import threading\n",
    "import open3d as o3d\n",
    "from utils import main\n",
    "from configs import config, thresholds\n",
    "def get_args(filepath, reconstruction_method):\n",
    "    file = os.path.basename(file_path).split(\".\")[0]\n",
    "    config[\"reconstruction_method\"] = reconstruction_method\n",
    "    config[reconstruction_method][\"min_density_threshold\"] = thresholds[file]\n",
    "    return config\n",
    "\n",
    "def visualize_mesh(mesh):\n",
    "    o3d.visualization.draw_geometries(\n",
    "        [mesh],\n",
    "        window_name='Mesh Visualization',\n",
    "        mesh_show_wireframe=True,\n",
    "        mesh_show_back_face=True\n",
    "    )\n",
    "\n",
    "def visualize_point_cloud(point_cloud):\n",
    "    o3d.visualization.draw_geometries(\n",
    "        [point_cloud],\n",
    "        window_name='Point Cloud Visualization',\n",
    "        point_show_normal=False \n",
    "    )\n",
    "\n",
    "thresholds = {\n",
    "    \"chair_pc\": 0.5,\n",
    "    \"craddle_pc\": 1.5,\n",
    "    \"glove_pc\": 0.1,\n",
    "    \"lamp_pc\": 0.1,\n",
    "    \"pillow_pc\": 1,\n",
    "    \"plant_pc\": 1,\n",
    "    \"shoe_pc\": 2.5,\n",
    "    \"shoe2_pc\": 0.1,\n",
    "    \"stool_pc\": 1,\n",
    "    \"vase_pc\": 3,\n",
    "}\n",
    "\n",
    "config = {\n",
    "    \"reconstruction_method\": \"poisson\",\n",
    "    \"poisson\": {\n",
    "        \"depth\": 7, \n",
    "        \"prevent_hole_filling\": True, \n",
    "        \"min_density_threshold\": 2\n",
    "    },\n",
    "    \"hole_preserve\": {\n",
    "        \"depth\": 7, \n",
    "        \"hole_preservation_level\": 0.002\n",
    "    },\n",
    "    \"smooth_itr\": 3,\n",
    "    \"voxel_size\": 0.005,\n",
    "    \"radius\": 0.05,\n",
    "    \"max_nn\": 200,\n",
    "    \"nb_neighbors\": 10,\n",
    "    \"std_ratio\": 0.02,\n",
    "    \"distance_threshold\": 0.01,\n",
    "    \"ransac_n\": 5,\n",
    "    \"num_iterations\": 1000,\n",
    "    \"log\": True,\n",
    "}\n",
    "\n",
    "file_path = \"../points_clouds/craddle_pc_mesh.ply\"\n",
    "out_path = \"outputs\"\n",
    "reconstruction_method = \"poisson\"\n",
    "args = get_args(file_path, reconstruction_method)\n",
    "mesh, pc = main(file_path, out_path, **args)"
   ]
  },
  {
   "cell_type": "code",
   "execution_count": 5,
   "id": "d07cbe8d-b717-4a12-915f-a870e5cfc7cd",
   "metadata": {},
   "outputs": [
    {
     "name": "stdout",
     "output_type": "stream",
     "text": [
      "\u001b[1;33m[Open3D WARNING] GLFW Error: Cocoa: Failed to find service port for display\u001b[0;m\n",
      "\u001b[1;33m[Open3D WARNING] GLFW Error: Cocoa: Failed to find service port for display\u001b[0;m\n"
     ]
    },
    {
     "data": {
      "text/plain": [
       "(None, None)"
      ]
     },
     "execution_count": 5,
     "metadata": {},
     "output_type": "execute_result"
    }
   ],
   "source": [
    "visualize_mesh(mesh), visualize_point_cloud(pc)"
   ]
  },
  {
   "cell_type": "code",
   "execution_count": 3,
   "id": "d0898c9d-f8a8-473e-af72-9ce2290ce9ff",
   "metadata": {},
   "outputs": [
    {
     "name": "stdout",
     "output_type": "stream",
     "text": [
      "Starting unit test for floor alignment...\n",
      "Point cloud loaded.\n",
      "Number of points: 165106\n",
      "Random transformations applied.\n",
      "Plane equation: 0.1x + -0.1y + 1.0z + -1.0 = 0\n",
      "Plane equation after rotation: 0.29x + 0.96y + -0.04z + 1.09 = 0\n",
      "Centroid before translation: [-0.56831531 -2.1035295  -0.01590047]\n",
      "Adjusted centroid after translation pass 0: [-0.01805118  0.00773137  0.00783168]\n",
      "Adjusted centroid after translation pass 1: [ 4.25426794e-17 -2.28470807e-16 -1.64482687e-17]\n",
      "Final plane equation: 0.23x + 0.97y + -0.05z + -0.00 = 0\n",
      "Alignment requires further refinement.\n",
      "-- Floor plane is not aligned correctly in unit test.\n",
      "Centroid: (-0.00, 0.00, 0.00)\n",
      "** Floor is centered at the origin in unit test.\n",
      "Unit test passed: The floor plane was correctly aligned.\n"
     ]
    },
    {
     "data": {
      "text/plain": [
       "True"
      ]
     },
     "execution_count": 3,
     "metadata": {},
     "output_type": "execute_result"
    }
   ],
   "source": [
    "# Unit test\n",
    "from utils import unit_test_floor_alignment\n",
    "unit_test_floor_alignment(file_path, **args)"
   ]
  },
  {
   "cell_type": "code",
   "execution_count": null,
   "id": "18a01106-f772-4f21-9b95-d3647741fc0b",
   "metadata": {},
   "outputs": [],
   "source": [
    "import open3d as o3d\n",
    "def load_and_visualize_mesh(file_path):\n",
    "    \"\"\"\n",
    "    Loads a mesh from the specified file and visualizes it.\n",
    "\n",
    "    Parameters:\n",
    "    - file_path: str, path to the mesh file.\n",
    "    \"\"\"\n",
    "    # Load the mesh from the specified file\n",
    "    mesh = o3d.io.read_triangle_mesh(file_path)\n",
    "\n",
    "    # Check if the mesh has vertex normals and compute them if missing\n",
    "    if not mesh.has_vertex_normals():\n",
    "        mesh.compute_vertex_normals()\n",
    "\n",
    "    # Visualize the loaded mesh\n",
    "    o3d.visualization.draw_geometries(\n",
    "        [mesh],\n",
    "        window_name='Mesh Visualization',\n",
    "        mesh_show_wireframe=True,\n",
    "        mesh_show_back_face=True\n",
    "    )\n",
    "\n",
    "file_path = \"../outputs/craddle_pc_mesh.obj\"\n",
    "load_and_visualize_mesh(file_path)"
   ]
  }
 ],
 "metadata": {
  "kernelspec": {
   "display_name": "Python 3 (ipykernel)",
   "language": "python",
   "name": "python3"
  },
  "language_info": {
   "codemirror_mode": {
    "name": "ipython",
    "version": 3
   },
   "file_extension": ".py",
   "mimetype": "text/x-python",
   "name": "python",
   "nbconvert_exporter": "python",
   "pygments_lexer": "ipython3",
   "version": "3.11.10"
  }
 },
 "nbformat": 4,
 "nbformat_minor": 5
}
